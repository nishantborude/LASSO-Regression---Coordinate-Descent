{
 "cells": [
  {
   "cell_type": "markdown",
   "metadata": {},
   "source": [
    "## Import the required libraries"
   ]
  },
  {
   "cell_type": "code",
   "execution_count": null,
   "metadata": {},
   "outputs": [],
   "source": [
    "import numpy as np\n",
    "import scipy.sparse\n",
    "import pandas as pd"
   ]
  },
  {
   "cell_type": "markdown",
   "metadata": {},
   "source": [
    "## Import training data and labels and initialize sparse matrix X, random weights w, zero bias b and labels Y"
   ]
  },
  {
   "cell_type": "code",
   "execution_count": 26,
   "metadata": {},
   "outputs": [],
   "source": [
    "init_train = pd.read_csv('train.txt', header=None, sep = \" \")\n",
    "train_label = pd.read_csv('train_label.txt', header= None)"
   ]
  },
  {
   "cell_type": "code",
   "execution_count": 28,
   "metadata": {},
   "outputs": [],
   "source": [
    "X = scipy.sparse.csr_matrix((init_train[2], (init_train[1] - 1, init_train[0] - 1)))\n",
    "Y = np.array(train_label[0])\n",
    "w = np.random.rand(X.shape[0])\n",
    "B = np.zeros(Y.shape[0])"
   ]
  },
  {
   "cell_type": "markdown",
   "metadata": {},
   "source": [
    "## Import cross validation data and build the sparse X_cv training matrix and Y_cv labels"
   ]
  },
  {
   "cell_type": "code",
   "execution_count": 27,
   "metadata": {},
   "outputs": [],
   "source": [
    "cv_train = pd.read_csv('cval.txt', header=None, sep = \" \")\n",
    "cv_label = pd.read_csv('cval_label.txt', header= None)\n",
    "X_cv = scipy.sparse.csr_matrix((cv_train[2], (cv_train[1] - 1, cv_train[0] - 1)))\n",
    "Y_cv = np.array(cv_label[0])"
   ]
  },
  {
   "cell_type": "markdown",
   "metadata": {},
   "source": [
    "## Define initial lambda_max, loss function, rmse function and train function"
   ]
  },
  {
   "cell_type": "code",
   "execution_count": 29,
   "metadata": {},
   "outputs": [],
   "source": [
    "def init_lambda(X, Y):\n",
    "    return 2 * max(abs(X.dot(Y - sum(Y)/len(Y))))"
   ]
  },
  {
   "cell_type": "code",
   "execution_count": 30,
   "metadata": {},
   "outputs": [],
   "source": [
    "def loss(X, Y, w, B, lam):\n",
    "    err = Y - X.T.dot(w) - B\n",
    "    err = np.square(err)\n",
    "    loss_val = sum(err) + lam * sum(abs(w))\n",
    "    return loss_val"
   ]
  },
  {
   "cell_type": "code",
   "execution_count": 31,
   "metadata": {},
   "outputs": [],
   "source": [
    "from math import sqrt\n",
    "def rmse(actual, pred):\n",
    "    new = actual - pred\n",
    "    new = np.square(new)\n",
    "    new = sum(new)\n",
    "    new /= len(actual)\n",
    "    return sqrt(new)"
   ]
  },
  {
   "cell_type": "code",
   "execution_count": 48,
   "metadata": {},
   "outputs": [],
   "source": [
    "# The training algorithm for coordinate descent\n",
    "def train(X, Y, w, B, lam, delta):\n",
    "    A_k = 2 * (np.square(X.todense()).sum(axis = 1))\n",
    "    A_k = np.squeeze(np.asarray(A_k))\n",
    "    prev_loss = float('inf')\n",
    "    loss_val = 0\n",
    "    while prev_loss - loss_val > delta:\n",
    "        R = Y - X.T.dot(w) - B\n",
    "        Bold = B.copy()\n",
    "        B = float(1/len(Y)) * sum(R + B)\n",
    "        B = np.full(len(Y), B)\n",
    "        R = R + Bold - B\n",
    "        for k in range(len(w)):\n",
    "            c_k = 2 * (X[k].dot(np.reshape(R, (-1, 1)) + w[k]*(X[k].T)))\n",
    "            c_k = c_k.item((0,0))\n",
    "            tmp = w[k]\n",
    "            if c_k < -lam:\n",
    "                w[k] = (c_k + lam) / A_k[k]\n",
    "            elif -lam <= c_k <= lam:\n",
    "                w[k] = 0\n",
    "            elif c_k > lam:\n",
    "                w[k] = (c_k - lam) / A_k[k]\n",
    "            R = np.reshape(R, (-1, 1)) - (X[k].T * (w[k] - tmp))\n",
    "        R = np.squeeze(np.asarray(R))\n",
    "        if loss_val:\n",
    "            prev_loss = loss_val\n",
    "        loss_val = loss(X, Y, w, B, lam)\n",
    "        print(loss_val)\n",
    "    return w, B"
   ]
  },
  {
   "cell_type": "markdown",
   "metadata": {},
   "source": [
    "## Train the model for different lambda decreasing it by a factor of 2"
   ]
  },
  {
   "cell_type": "code",
   "execution_count": 52,
   "metadata": {
    "scrolled": true
   },
   "outputs": [
    {
     "name": "stdout",
     "output_type": "stream",
     "text": [
      "RMSE_ TRAIN =  83.80405949870422\n",
      "RMSE_CV =  83.79769170886158\n",
      "==========================new lambda==============================\n",
      "Lambda =  1271.869651\n",
      "203535.275046\n",
      "153155.420746\n",
      "122644.449748\n",
      "115566.855469\n",
      "115339.9759\n",
      "115339.9759\n",
      "RMSE_ TRAIN =  83.80405949870422\n",
      "RMSE_CV =  83.79769170886158\n",
      "==========================new lambda==============================\n",
      "Lambda =  635.9348255\n",
      "113464.97052\n",
      "113351.724815\n",
      "113268.054226\n",
      "113230.355473\n",
      "113218.396063\n",
      "113214.759373\n",
      "RMSE_ TRAIN =  3.3961739634474775\n",
      "RMSE_CV =  3.3895861945079093\n",
      "==========================new lambda==============================\n",
      "Lambda =  317.96741275\n",
      "104738.684741\n",
      "104551.489754\n",
      "104543.97238\n",
      "RMSE_ TRAIN =  3.238322144707713\n",
      "RMSE_CV =  3.24124007767881\n",
      "==========================new lambda==============================\n",
      "Lambda =  158.983706375\n",
      "93427.2510091\n",
      "93157.6156333\n",
      "93126.7153739\n",
      "93101.1326074\n",
      "93080.6236026\n",
      "93066.3107944\n",
      "93057.5419756\n",
      "RMSE_ TRAIN =  2.9879366102450144\n",
      "RMSE_CV =  3.0015160579206257\n",
      "==========================new lambda==============================\n",
      "Lambda =  79.4918531875\n",
      "81062.1062604\n",
      "80612.1672541\n",
      "80552.4043291\n",
      "80513.3620368\n",
      "80482.4057553\n",
      "80456.1641073\n",
      "80433.9610165\n",
      "80415.5741849\n",
      "80401.1665399\n",
      "80390.4104958\n",
      "80381.6312596\n",
      "RMSE_ TRAIN =  2.754280975787721\n",
      "RMSE_CV =  2.7857806500821307\n",
      "==========================new lambda==============================\n",
      "Lambda =  39.7459265938\n",
      "68714.365228\n",
      "68352.4307034\n",
      "68305.1331802\n",
      "68270.7231776\n",
      "68240.9455104\n",
      "68213.764257\n",
      "68188.5222296\n",
      "68165.0010412\n",
      "68142.9228016\n",
      "68122.3127848\n",
      "68103.3602315\n",
      "68086.4981353\n",
      "68072.3079661\n",
      "68060.8076482\n",
      "68051.6754886\n",
      "RMSE_ TRAIN =  2.488644724344951\n",
      "RMSE_CV =  2.542930509470739\n",
      "==========================new lambda==============================\n",
      "Lambda =  19.8729632969\n",
      "57979.0053859\n",
      "57702.0114457\n",
      "57655.3353011\n",
      "57624.6036422\n",
      "57596.9495669\n",
      "57570.880293\n",
      "57546.2307013\n",
      "57522.9341864\n",
      "57500.9228486\n",
      "57480.1207935\n",
      "57460.495184\n",
      "57442.0745472\n",
      "57424.9926458\n",
      "57409.4001243\n",
      "57395.3470171\n",
      "57382.8551075\n",
      "57372.1431947\n",
      "57363.1045805\n",
      "RMSE_ TRAIN =  2.270484805235824\n",
      "RMSE_CV =  2.347434479736705\n",
      "==========================new lambda==============================\n",
      "Lambda =  9.93648164844\n",
      "48490.7849647\n",
      "48244.2643303\n",
      "48202.9668364\n",
      "48174.1193925\n",
      "48148.2373791\n",
      "48123.7901249\n",
      "48100.6750522\n",
      "48078.7772394\n",
      "48058.0565357\n",
      "48038.3075715\n",
      "48019.4564684\n",
      "48001.3984407\n",
      "47984.2177009\n",
      "47968.0304361\n",
      "47952.9164894\n",
      "47938.9260739\n",
      "47926.0459736\n",
      "47914.2821704\n",
      "47903.6339193\n",
      "47894.0974466\n",
      "RMSE_ TRAIN =  2.0777382199891896\n",
      "RMSE_CV =  2.1883453070331527\n",
      "==========================new lambda==============================\n",
      "Lambda =  4.96824082422\n",
      "40285.8084354\n",
      "40108.8915069\n",
      "40070.5174734\n",
      "40046.1598021\n",
      "40024.4678101\n",
      "40003.775277\n",
      "39983.9241387\n",
      "39964.9662854\n",
      "39946.9645763\n",
      "39929.9332149\n",
      "39913.7746684\n",
      "39898.3889551\n",
      "39883.7063281\n",
      "39869.6912403\n",
      "39856.3118368\n",
      "39843.5827674\n",
      "39831.5079034\n",
      "39820.0809782\n",
      "39809.2965149\n",
      "39799.1553699\n",
      "39789.6451613\n",
      "RMSE_ TRAIN =  1.87973926352864\n",
      "RMSE_CV =  2.053885335162681\n",
      "==========================new lambda==============================\n",
      "Lambda =  2.48412041211\n",
      "33725.1448284\n",
      "33583.8416629\n",
      "33547.7408508\n",
      "33528.0156421\n",
      "33512.4623036\n",
      "33498.1673783\n",
      "33484.3107891\n",
      "33470.7126773\n",
      "33457.2802664\n",
      "33444.0404208\n",
      "33431.0264445\n",
      "33418.3040027\n",
      "33405.9153474\n",
      "33393.9039002\n",
      "33382.2959066\n",
      "33371.1093073\n",
      "33360.3566131\n",
      "33350.0359122\n",
      "33340.1477215\n",
      "RMSE_ TRAIN =  1.7187532695296943\n",
      "RMSE_CV =  1.9764444020617113\n",
      "==========================new lambda==============================\n",
      "Lambda =  1.24206020605\n",
      "28884.8432462\n",
      "28784.083595\n",
      "28749.7614267\n",
      "28730.2710665\n",
      "28715.8462407\n",
      "28703.5433001\n",
      "28692.1651932\n",
      "28681.299223\n",
      "28670.7366564\n",
      "28660.3955517\n",
      "28650.2547135\n",
      "28640.3227544\n"
     ]
    }
   ],
   "source": [
    "new_w, new_b = w, B\n",
    "lam = init_lambda(X, Y)\n",
    "# lam = 2.828000000000063\n",
    "delta = 0.001\n",
    "lambda_val = []\n",
    "rmse_train = [rmse(Y, X.T.dot(new_w) + new_b)]\n",
    "rmse_cv = [rmse(Y_cv, X_cv.T.dot(new_w) + new_b)]\n",
    "non_zero = []\n",
    "# param_list = []\n",
    "while rmse_cv[-1] >= rmse(Y_cv, X_cv.T.dot(new_w) + new_b):\n",
    "# for j in range(100):\n",
    "    print(\"RMSE_ TRAIN = \", rmse_train[-1])\n",
    "    print(\"RMSE_CV = \", rmse_cv[-1])\n",
    "    print(\"==========================new lambda==============================\")\n",
    "    print(\"Lambda = \", lam)\n",
    "    lambda_val.append(lam)\n",
    "    rmse_train.append(rmse(Y, X.T.dot(new_w) + new_b))\n",
    "    rmse_cv.append(rmse(Y_cv, X_cv.T.dot(new_w) + new_b))\n",
    "    non_zero.append(np.count_nonzero(new_w))\n",
    "    optimal_w, optimal_b = new_w.copy(), new_b.copy()\n",
    "    new_w, new_b = train(X, Y, new_w, new_b, lam, delta)\n",
    "    lam /= 2\n",
    "lambda_val.pop()\n",
    "lam = lambda_val[-1]\n",
    "rmse_cv = rmse_cv[2:]\n",
    "rmse_train = rmse_train[2:]"
   ]
  },
  {
   "cell_type": "markdown",
   "metadata": {},
   "source": [
    "## Plot the training and cv rmse against lambda"
   ]
  },
  {
   "cell_type": "code",
   "execution_count": 53,
   "metadata": {},
   "outputs": [
    {
     "data": {
      "image/png": "[encoded data removed]",
      "text/plain": [
       "<matplotlib.figure.Figure at 0x227bc40f2b0>"
      ]
     },
     "metadata": {},
     "output_type": "display_data"
    }
   ],
   "source": [
    "import matplotlib.pyplot as plt\n",
    "plt.plot(lambda_val, rmse_train)\n",
    "plt.plot(lambda_val, rmse_cv)\n",
    "plt.ylabel('rmse')\n",
    "plt.xlabel('lambda')\n",
    "ax = plt.gca()\n",
    "ax.invert_xaxis()\n",
    "plt.legend(['Train', 'CV'], loc='upper right')\n",
    "plt.show()"
   ]
  },
  {
   "cell_type": "markdown",
   "metadata": {},
   "source": [
    "## Plot number of nonzeros per epoch"
   ]
  },
  {
   "cell_type": "code",
   "execution_count": 61,
   "metadata": {},
   "outputs": [
    {
     "data": {
      "image/png": "[encoded data removed]",
      "text/plain": [
       "<matplotlib.figure.Figure at 0x227bec103c8>"
      ]
     },
     "metadata": {},
     "output_type": "display_data"
    }
   ],
   "source": [
    "plt.plot(range(1, len(non_zero[1:]) + 1), non_zero[1:])\n",
    "plt.ylabel('non zero')\n",
    "plt.xlabel('epoch')\n",
    "plt.legend(['Non Zero'], loc='upper right')\n",
    "plt.show()"
   ]
  },
  {
   "cell_type": "code",
   "execution_count": 55,
   "metadata": {},
   "outputs": [
    {
     "name": "stdout",
     "output_type": "stream",
     "text": [
      "1.5950020311239883 1.9618388378918905\n"
     ]
    }
   ],
   "source": [
    "print(rmse(Y, X.T.dot(optimal_w) + optimal_b), rmse(Y_cv, X_cv.T.dot(optimal_w) + optimal_b))"
   ]
  },
  {
   "cell_type": "code",
   "execution_count": 56,
   "metadata": {},
   "outputs": [],
   "source": [
    "# w_star, b_star = optimal_w.copy(), optimal_b.copy()"
   ]
  },
  {
   "cell_type": "markdown",
   "metadata": {},
   "source": [
    "## Train on cross validation dataset"
   ]
  },
  {
   "cell_type": "code",
   "execution_count": 57,
   "metadata": {},
   "outputs": [
    {
     "name": "stdout",
     "output_type": "stream",
     "text": [
      "34895.2535471\n",
      "33803.6932534\n",
      "33620.6432684\n",
      "33556.3967488\n",
      "33524.319691\n",
      "33504.1875759\n",
      "33489.3422145\n",
      "33477.2685285\n",
      "33467.1197221\n",
      "33458.4705179\n",
      "33450.906972\n",
      "33444.216938\n",
      "33438.2527671\n",
      "33433.0018584\n",
      "33428.3189934\n",
      "33424.1255812\n",
      "33420.3399827\n",
      "33416.8661716\n",
      "33413.6384262\n",
      "33410.5970936\n",
      "33407.6922128\n",
      "33404.8798655\n",
      "33402.12442\n",
      "33399.3985841\n",
      "33396.6839166\n",
      "33393.967722\n",
      "33391.2420415\n",
      "33388.5057887\n",
      "33385.7639845\n",
      "33383.025726\n",
      "33380.3033767\n",
      "33377.6105008\n",
      "33374.9614651\n",
      "33372.3702971\n",
      "33369.8507608\n",
      "33367.4132805\n",
      "33365.0679786\n",
      "33362.8324663\n",
      "33360.7022142\n",
      "33358.6726154\n",
      "33356.7383471\n",
      "33354.8994027\n",
      "33353.1575268\n",
      "33351.5085696\n",
      "33349.9483915\n",
      "33348.4728952\n",
      "33347.0788\n",
      "33345.7614634\n",
      "33344.516847\n",
      "33343.3414064\n",
      "33342.2318226\n",
      "33341.1851466\n",
      "33340.1982015\n",
      "33339.2672485\n",
      "33338.3890952\n",
      "33337.5606871\n",
      "33336.7789973\n",
      "33336.0408173\n",
      "33335.343665\n",
      "33334.685424\n",
      "33334.0640762\n",
      "33333.4772865\n",
      "33332.9224268\n",
      "33332.3968902\n",
      "33331.8983194\n",
      "33331.4246999\n",
      "33330.9741947\n",
      "33330.5452118\n",
      "33330.1363723\n",
      "33329.7464764\n",
      "33329.3744827\n",
      "33329.0194769\n",
      "33328.6806531\n",
      "33328.3572901\n",
      "33328.0487241\n",
      "33327.7543407\n",
      "33327.4735629\n",
      "33327.2058579\n",
      "33326.9507127\n",
      "33326.7076123\n",
      "33326.4760622\n",
      "33326.2556905\n",
      "33326.0459779\n",
      "33325.8480673\n",
      "33325.6628513\n",
      "33325.487261\n",
      "33325.3206953\n",
      "33325.162646\n",
      "33325.0126722\n",
      "33324.8703449\n",
      "33324.7352477\n",
      "33324.6069826\n",
      "33324.4851739\n",
      "33324.3694712\n",
      "33324.2595522\n",
      "33324.1554301\n",
      "33324.0566164\n"
     ]
    }
   ],
   "source": [
    "opt_lam = lambda_val[-1]\n",
    "final_w, final_b = train(X_cv, Y_cv, optimal_w, optimal_b, opt_lam , 0.001)"
   ]
  },
  {
   "cell_type": "code",
   "execution_count": 62,
   "metadata": {},
   "outputs": [
    {
     "name": "stdout",
     "output_type": "stream",
     "text": [
      "1.9401854487998866 1.5778997832150354\n"
     ]
    }
   ],
   "source": [
    "print(rmse(Y, X.T.dot(final_w) + final_b), rmse(Y_cv, X_cv.T.dot(final_w) + final_b))"
   ]
  },
  {
   "cell_type": "markdown",
   "metadata": {},
   "source": [
    "## Get the top ten max valued and min valued features"
   ]
  },
  {
   "cell_type": "code",
   "execution_count": 74,
   "metadata": {},
   "outputs": [
    {
     "name": "stdout",
     "output_type": "stream",
     "text": [
      "[2817  825 1642   73 2573 2751 2469 2544  358  969] [2717 2258 1486 1185 2866 2627 1544 2821 2731 2628]\n"
     ]
    }
   ],
   "source": [
    "top_10_feat_min = np.argsort(final_w)[:10]\n",
    "top_10_feat_max = np.argsort(final_w)[-10:]\n",
    "print(top_10_feat_max, top_10_feat_min)"
   ]
  },
  {
   "cell_type": "code",
   "execution_count": 75,
   "metadata": {},
   "outputs": [
    {
     "name": "stdout",
     "output_type": "stream",
     "text": [
      "['aromas flavors', 'pure varietal', 'flavors pineapples', 'straightforward', 'tannic dry', 'paired', 'bordeaux', 'big', 'stars', 'impressively'] ['blackberries black cherries', 'smoky oak flavors', 'soft', 'flavors blackberries currants', 'dry fruity', 'high', 'banana', 'low alcohol', 'followed', 'white']\n"
     ]
    }
   ],
   "source": [
    "features = pd.read_csv('features.txt', header= None)\n",
    "max_feat = []\n",
    "min_feat = []\n",
    "for i in top_10_feat_max:\n",
    "    max_feat.append(features[0][i])\n",
    "for i in top_10_feat_min:\n",
    "    min_feat.append(features[0][i])\n",
    "print(max_feat, min_feat)"
   ]
  },
  {
   "cell_type": "markdown",
   "metadata": {},
   "source": [
    "## Compute predictions for test data"
   ]
  },
  {
   "cell_type": "code",
   "execution_count": 42,
   "metadata": {},
   "outputs": [],
   "source": [
    "test = pd.read_csv('test.txt', header=None, sep = \" \")\n",
    "X_test = scipy.sparse.csr_matrix((test[2], (test[1] - 1, test[0] - 1)))\n",
    "test_b = np.full(X_test.shape[1], final_b[0])\n",
    "pred = X_test.T.dot(final_w) + test_b"
   ]
  },
  {
   "cell_type": "code",
   "execution_count": 43,
   "metadata": {},
   "outputs": [],
   "source": [
    "submission = pd.read_csv('sampleSubmission.csv')\n",
    "submission.Points = pred"
   ]
  },
  {
   "cell_type": "code",
   "execution_count": 44,
   "metadata": {},
   "outputs": [],
   "source": [
    "submission.to_csv('test_res.csv', index=False)"
   ]
  }
 ],
 "metadata": {
  "kernelspec": {
   "display_name": "Python 3",
   "language": "python",
   "name": "python3"
  },
  "language_info": {
   "codemirror_mode": {
    "name": "ipython",
    "version": 3
   },
   "file_extension": ".py",
   "mimetype": "text/x-python",
   "name": "python",
   "nbconvert_exporter": "python",
   "pygments_lexer": "ipython3",
   "version": "3.6.3"
  }
 },
 "nbformat": 4,
 "nbformat_minor": 2
}
