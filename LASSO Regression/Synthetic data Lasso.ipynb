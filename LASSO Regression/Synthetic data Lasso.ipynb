{
 "cells": [
  {
   "cell_type": "markdown",
   "metadata": {},
   "source": [
    "## Import libraries"
   ]
  },
  {
   "cell_type": "code",
   "execution_count": 18,
   "metadata": {},
   "outputs": [],
   "source": [
    "import numpy as np\n",
    "import scipy.sparse\n",
    "import pandas as pd\n",
    "import random"
   ]
  },
  {
   "cell_type": "markdown",
   "metadata": {},
   "source": [
    "## Initialiaze Weights and random X, epsilon and generate labels Y"
   ]
  },
  {
   "cell_type": "code",
   "execution_count": 19,
   "metadata": {},
   "outputs": [],
   "source": [
    "n = 250\n",
    "d = 80\n",
    "k = 10\n",
    "mu = 0\n",
    "sigma = 1"
   ]
  },
  {
   "cell_type": "code",
   "execution_count": 20,
   "metadata": {},
   "outputs": [],
   "source": [
    "X = []\n",
    "for i in range(n):\n",
    "    X.append(np.random.normal(mu, sigma, d))\n",
    "X = scipy.sparse.csr_matrix(X).T\n",
    "B_star = np.zeros(n)\n",
    "w_star = np.random.rand(d)\n",
    "for i in range(k):\n",
    "    w_star[i] = random.choice([10, -10]) \n",
    "w_star[k:] = 0\n",
    "eps = np.random.normal(mu, sigma, n)"
   ]
  },
  {
   "cell_type": "code",
   "execution_count": 21,
   "metadata": {},
   "outputs": [],
   "source": [
    "Y = X.T.dot(w_star) + B_star + eps"
   ]
  },
  {
   "cell_type": "code",
   "execution_count": 22,
   "metadata": {},
   "outputs": [],
   "source": [
    "w = np.random.rand(d)\n",
    "B = np.zeros(n)"
   ]
  },
  {
   "cell_type": "markdown",
   "metadata": {},
   "source": [
    "## Define lambda_max, loss, rmse and train functions"
   ]
  },
  {
   "cell_type": "code",
   "execution_count": 23,
   "metadata": {},
   "outputs": [],
   "source": [
    "def init_lambda(X, Y):\n",
    "    return 2 * max(abs(X.dot(Y - sum(Y)/len(Y))))"
   ]
  },
  {
   "cell_type": "code",
   "execution_count": 24,
   "metadata": {},
   "outputs": [],
   "source": [
    "def loss(X, Y, w, B, lam):\n",
    "    err = Y - X.T.dot(w) - B\n",
    "    err = np.square(err)\n",
    "    loss_val = sum(err) + lam * sum(abs(w))\n",
    "    return loss_val"
   ]
  },
  {
   "cell_type": "code",
   "execution_count": 25,
   "metadata": {},
   "outputs": [],
   "source": [
    "from math import sqrt\n",
    "def rmse(actual, pred):\n",
    "    new = actual - pred\n",
    "    new = np.square(new)\n",
    "    new = sum(new)\n",
    "    new /= len(actual)\n",
    "    return sqrt(new)"
   ]
  },
  {
   "cell_type": "code",
   "execution_count": 26,
   "metadata": {},
   "outputs": [],
   "source": [
    "def train(X, Y, w, B, lam, delta):\n",
    "    A_k = 2 * (np.square(X.todense()).sum(axis = 1))\n",
    "    A_k = np.squeeze(np.asarray(A_k))\n",
    "    prev_loss = float('inf')\n",
    "    loss_val = 0\n",
    "    while prev_loss - loss_val > delta:\n",
    "        R = Y - X.T.dot(w) - B\n",
    "        Bold = B.copy()\n",
    "        B = float(1/len(Y)) * sum(R + B)\n",
    "        B = np.full(len(Y), B)\n",
    "        R = R + Bold - B\n",
    "        for k in range(len(w)):\n",
    "            c_k = 2 * (X[k].dot(np.reshape(R, (-1, 1)) + w[k]*(X[k].T)))\n",
    "            c_k = c_k.item((0,0))\n",
    "            tmp = w[k]\n",
    "            if c_k < -lam:\n",
    "                w[k] = (c_k + lam) / A_k[k]\n",
    "            elif -lam <= c_k <= lam:\n",
    "                w[k] = 0\n",
    "            elif c_k > lam:\n",
    "                w[k] = (c_k - lam) / A_k[k]\n",
    "            R = np.reshape(R, (-1, 1)) - (X[k].T * (w[k] - tmp))\n",
    "        R = np.squeeze(np.asarray(R))\n",
    "        if loss_val:\n",
    "            prev_loss = loss_val\n",
    "        loss_val = loss(X, Y, w, B, lam)\n",
    "        print(loss_val)\n",
    "    return w, B"
   ]
  },
  {
   "cell_type": "markdown",
   "metadata": {},
   "source": [
    "## Calculate precision, recall and train rmse for 10 iterations"
   ]
  },
  {
   "cell_type": "code",
   "execution_count": 27,
   "metadata": {
    "scrolled": true
   },
   "outputs": [
    {
     "name": "stdout",
     "output_type": "stream",
     "text": [
      "Iteration:  1\n",
      "RMSE_ TRAIN =  28.810042706729778\n",
      "==========================new lambda==============================\n",
      "Lambda =  5684.04370497\n",
      "199907.191807\n",
      "199836.639577\n",
      "199836.564213\n",
      "199836.564201\n",
      "PREC/REC : 1.0 0.1\n",
      "Iteration:  2\n",
      "RMSE_ TRAIN =  28.272712110955514\n",
      "==========================new lambda==============================\n",
      "Lambda =  2842.02185248\n",
      "177503.528173\n",
      "177153.05637\n",
      "177149.890145\n",
      "177149.866632\n",
      "177149.866605\n",
      "PREC/REC : 1.0 0.9\n",
      "Iteration:  3\n",
      "RMSE_ TRAIN =  20.641955097018403\n",
      "==========================new lambda==============================\n",
      "Lambda =  1421.01092624\n",
      "117022.366941\n",
      "115404.277897\n",
      "115372.534021\n",
      "115371.973467\n",
      "115371.962753\n",
      "115371.962548\n",
      "115371.962544\n",
      "PREC/REC : 1.0 1.0\n",
      "Iteration:  4\n",
      "RMSE_ TRAIN =  10.375599400572703\n",
      "==========================new lambda==============================\n",
      "Lambda =  710.505463121\n",
      "64887.1907181\n",
      "64480.0024903\n",
      "64472.0054646\n",
      "64471.8641872\n",
      "64471.8614867\n",
      "64471.861435\n",
      "PREC/REC : 1.0 1.0\n",
      "Iteration:  5\n",
      "RMSE_ TRAIN =  5.254004068140169\n",
      "==========================new lambda==============================\n",
      "Lambda =  355.252731561\n",
      "34122.602078\n",
      "34020.8029238\n",
      "34018.8036222\n",
      "34018.768302\n",
      "34018.7676269\n",
      "34018.7676139\n",
      "PREC/REC : 1.0 1.0\n",
      "Iteration:  6\n",
      "RMSE_ TRAIN =  2.755371941779133\n",
      "==========================new lambda==============================\n",
      "Lambda =  177.62636578\n",
      "17567.4185033\n",
      "17541.9687147\n",
      "17541.4688893\n",
      "17541.4600593\n",
      "17541.4598905\n",
      "17541.4598872\n",
      "PREC/REC : 1.0 1.0\n",
      "Iteration:  7\n",
      "RMSE_ TRAIN =  1.6090225243037448\n",
      "==========================new lambda==============================\n",
      "Lambda =  88.8131828901\n",
      "8996.01397549\n",
      "8989.82444094\n",
      "8989.70884606\n",
      "8989.70622674\n",
      "8989.70615979\n",
      "PREC/REC : 0.7692307692307693 1.0\n",
      "Iteration:  8\n",
      "RMSE_ TRAIN =  1.1484882982758253\n",
      "==========================new lambda==============================\n",
      "Lambda =  44.4065914451\n",
      "4629.94857818\n",
      "4628.27181948\n",
      "4628.23955058\n",
      "4628.23812806\n",
      "4628.23801288\n",
      "4628.23800259\n",
      "PREC/REC : 0.38461538461538464 1.0\n",
      "Iteration:  9\n",
      "RMSE_ TRAIN =  0.9608034132373979\n",
      "==========================new lambda==============================\n",
      "Lambda =  22.2032957225\n",
      "2416.37055892\n",
      "2415.75381745\n",
      "2415.70565545\n",
      "2415.7001404\n",
      "2415.69940943\n",
      "2415.69931128\n",
      "PREC/REC : 0.24390243902439024 1.0\n",
      "Iteration:  10\n",
      "RMSE_ TRAIN =  0.8628959882540836\n",
      "==========================new lambda==============================\n",
      "Lambda =  11.1016478613\n",
      "1295.19901675\n",
      "1294.56180998\n",
      "1294.4672574\n",
      "1294.45086147\n",
      "1294.44711269\n",
      "1294.44615053\n",
      "1294.44590277\n",
      "1294.44583944\n",
      "PREC/REC : 0.1694915254237288 1.0\n"
     ]
    }
   ],
   "source": [
    "new_w, new_b = w, B\n",
    "lam = init_lambda(X, Y)\n",
    "delta = 0.0001\n",
    "lambda_val = []\n",
    "rmse_train = []\n",
    "prec = []\n",
    "rec = []\n",
    "# rmse_cv = []\n",
    "# non_zero = []\n",
    "# param_list = []\n",
    "for j in range(10):\n",
    "    rmse_train.append(rmse(Y, X.T.dot(new_w) + new_b))\n",
    "    print(\"Iteration: \", j + 1)\n",
    "    print(\"RMSE_ TRAIN = \", rmse_train[-1])\n",
    "#     print(\"RMSE_CV = \", rmse_cv[-1])\n",
    "    print(\"==========================new lambda==============================\")\n",
    "    print(\"Lambda = \", lam)\n",
    "    lambda_val.append(lam)\n",
    "#     non_zero.append(np.count_nonzero(new_w))\n",
    "#     rmse_cv.append(rmse(Y_cv, X_cv.T.dot(new_w) + new_b))\n",
    "#     optimal_w, optimal_b = new_w.copy(), new_b.copy()\n",
    "    new_w, new_b = train(X, Y, new_w, new_b, lam, delta)\n",
    "    if not np.count_nonzero(new_w):\n",
    "        prec.append(1)\n",
    "    else:\n",
    "        prec.append(np.count_nonzero(new_w[:k]) / np.count_nonzero(new_w))\n",
    "    rec.append(np.count_nonzero(new_w[:k])/ k)\n",
    "    print(\"PREC/REC :\", prec[-1], rec[-1])\n",
    "    lam /= 2\n"
   ]
  },
  {
   "cell_type": "code",
   "execution_count": 28,
   "metadata": {},
   "outputs": [
    {
     "data": {
      "text/plain": [
       "59"
      ]
     },
     "execution_count": 28,
     "metadata": {},
     "output_type": "execute_result"
    }
   ],
   "source": [
    "np.count_nonzero(new_w)"
   ]
  },
  {
   "cell_type": "markdown",
   "metadata": {},
   "source": [
    "## Plot precision and recall values against lambda"
   ]
  },
  {
   "cell_type": "code",
   "execution_count": 29,
   "metadata": {},
   "outputs": [
    {
     "data": {
      "image/png": "[encoded data removed]",
      "text/plain": [
       "<matplotlib.figure.Figure at 0x287dd907550>"
      ]
     },
     "metadata": {},
     "output_type": "display_data"
    }
   ],
   "source": [
    "import matplotlib.pyplot as plt\n",
    "plt.plot(lambda_val, prec)\n",
    "plt.plot(lambda_val, rec)\n",
    "plt.ylabel('lambda')\n",
    "plt.xlabel('prec/rec')\n",
    "ax = plt.gca()\n",
    "ax.invert_xaxis()\n",
    "plt.legend(['Precision', 'Recall'], loc='upper right')\n",
    "plt.show()"
   ]
  },
  {
   "cell_type": "code",
   "execution_count": 30,
   "metadata": {},
   "outputs": [
    {
     "name": "stdout",
     "output_type": "stream",
     "text": [
      "0.1694915254237288 1.0\n"
     ]
    }
   ],
   "source": [
    "precision = np.count_nonzero(new_w[:k]) / np.count_nonzero(new_w)\n",
    "recall = np.count_nonzero(new_w[:k])/ k\n",
    "print(precision, recall)"
   ]
  },
  {
   "cell_type": "markdown",
   "metadata": {},
   "source": [
    "## Define lambda finding function for optimal lambda"
   ]
  },
  {
   "cell_type": "code",
   "execution_count": 31,
   "metadata": {},
   "outputs": [],
   "source": [
    "def find_lam(lam, w, B, X, Y):\n",
    "    new_w, new_b = w, B\n",
    "#     lam = init_lambda(X, Y)\n",
    "    delta = 0.0001\n",
    "#     lambda_val = []\n",
    "    rmse_train = []\n",
    "#     prec = []\n",
    "#     rec = []\n",
    "    # rmse_cv = []\n",
    "    # non_zero = []\n",
    "    # param_list = []\n",
    "    prev_rmse = float('inf')\n",
    "    curr_rmse = 0\n",
    "    while prev_rmse - curr_rmse > 0.0001:\n",
    "        rmse_train.append(rmse(Y, X.T.dot(new_w) + new_b))\n",
    "#         print(\"Iteration: \", j + 1)\n",
    "        print(\"RMSE_ TRAIN = \", rmse_train[-1])\n",
    "    #     print(\"RMSE_CV = \", rmse_cv[-1])\n",
    "        print(\"==========================new lambda==============================\")\n",
    "        print(\"Lambda = \", lam)\n",
    "        lambda_val.append(lam)\n",
    "    #     non_zero.append(np.count_nonzero(new_w))\n",
    "    #     rmse_cv.append(rmse(Y_cv, X_cv.T.dot(new_w) + new_b))\n",
    "    #     optimal_w, optimal_b = new_w.copy(), new_b.copy()\n",
    "        new_w, new_b = train(X, Y, new_w, new_b, lam, delta)\n",
    "        if not np.count_nonzero(new_w):\n",
    "            prec.append(1)\n",
    "        else:\n",
    "            prec.append(np.count_nonzero(new_w[:k]) / np.count_nonzero(new_w))\n",
    "        rec.append(np.count_nonzero(new_w[:k])/ k)\n",
    "        print(\"PREC/REC :\", prec[-1], rec[-1])\n",
    "        if curr_rmse:\n",
    "            prev_rmse = curr_rmse\n",
    "        curr_rmse = rmse(Y, X.T.dot(new_w) + new_b)\n",
    "        lam /= 2\n",
    "    return lam * 2"
   ]
  },
  {
   "cell_type": "markdown",
   "metadata": {},
   "source": [
    "## Get optimal lambda"
   ]
  },
  {
   "cell_type": "code",
   "execution_count": 32,
   "metadata": {},
   "outputs": [
    {
     "name": "stdout",
     "output_type": "stream",
     "text": [
      "RMSE_ TRAIN =  0.815667681207309\n",
      "==========================new lambda==============================\n",
      "Lambda =  5684.04370497\n",
      "199970.761113\n",
      "199836.564201\n",
      "199836.564201\n",
      "PREC/REC : 1 0.0\n",
      "RMSE_ TRAIN =  28.272712229379387\n",
      "==========================new lambda==============================\n",
      "Lambda =  2842.02185248\n",
      "177503.528183\n",
      "177153.05637\n",
      "177149.890145\n",
      "177149.866632\n",
      "177149.866605\n",
      "PREC/REC : 1.0 0.9\n",
      "RMSE_ TRAIN =  20.64195509701807\n",
      "==========================new lambda==============================\n",
      "Lambda =  1421.01092624\n",
      "117022.366941\n",
      "115404.277897\n",
      "115372.534021\n",
      "115371.973467\n",
      "115371.962753\n",
      "115371.962548\n",
      "115371.962544\n",
      "PREC/REC : 1.0 1.0\n",
      "RMSE_ TRAIN =  10.375599400572701\n",
      "==========================new lambda==============================\n",
      "Lambda =  710.505463121\n",
      "64887.1907181\n",
      "64480.0024903\n",
      "64472.0054646\n",
      "64471.8641872\n",
      "64471.8614867\n",
      "64471.861435\n",
      "PREC/REC : 1.0 1.0\n",
      "RMSE_ TRAIN =  5.254004068140169\n",
      "==========================new lambda==============================\n",
      "Lambda =  355.252731561\n",
      "34122.602078\n",
      "34020.8029238\n",
      "34018.8036222\n",
      "34018.768302\n",
      "34018.7676269\n",
      "34018.7676139\n",
      "PREC/REC : 1.0 1.0\n",
      "RMSE_ TRAIN =  2.755371941779135\n",
      "==========================new lambda==============================\n",
      "Lambda =  177.62636578\n",
      "17567.4185033\n",
      "17541.9687147\n",
      "17541.4688893\n",
      "17541.4600593\n",
      "17541.4598905\n",
      "17541.4598872\n",
      "PREC/REC : 1.0 1.0\n",
      "RMSE_ TRAIN =  1.6090225243037446\n",
      "==========================new lambda==============================\n",
      "Lambda =  88.8131828901\n",
      "8996.01397549\n",
      "8989.82444094\n",
      "8989.70884606\n",
      "8989.70622674\n",
      "8989.70615979\n",
      "PREC/REC : 0.7692307692307693 1.0\n",
      "RMSE_ TRAIN =  1.1484882982758244\n",
      "==========================new lambda==============================\n",
      "Lambda =  44.4065914451\n",
      "4629.94857818\n",
      "4628.27181948\n",
      "4628.23955058\n",
      "4628.23812806\n",
      "4628.23801288\n",
      "4628.23800259\n",
      "PREC/REC : 0.38461538461538464 1.0\n",
      "RMSE_ TRAIN =  0.9608034132373976\n",
      "==========================new lambda==============================\n",
      "Lambda =  22.2032957225\n",
      "2416.37055892\n",
      "2415.75381745\n",
      "2415.70565545\n",
      "2415.7001404\n",
      "2415.69940943\n",
      "2415.69931128\n",
      "PREC/REC : 0.24390243902439024 1.0\n",
      "RMSE_ TRAIN =  0.8628959882540836\n",
      "==========================new lambda==============================\n",
      "Lambda =  11.1016478613\n",
      "1295.19901675\n",
      "1294.56180998\n",
      "1294.4672574\n",
      "1294.45086147\n",
      "1294.44711269\n",
      "1294.44615053\n",
      "1294.44590277\n",
      "1294.44583944\n",
      "PREC/REC : 0.1694915254237288 1.0\n",
      "RMSE_ TRAIN =  0.8123029658992592\n",
      "==========================new lambda==============================\n",
      "Lambda =  5.55082393063\n",
      "727.252376165\n",
      "726.746249696\n",
      "726.626582916\n",
      "726.596057309\n",
      "726.587564004\n",
      "726.585127176\n",
      "726.584426924\n",
      "726.584226253\n",
      "726.584168897\n",
      "PREC/REC : 0.14084507042253522 1.0\n",
      "RMSE_ TRAIN =  0.7879982386973374\n",
      "==========================new lambda==============================\n",
      "Lambda =  2.77541196532\n",
      "440.161628115\n",
      "439.971771521\n",
      "439.920411364\n",
      "439.906184592\n",
      "439.902058774\n",
      "439.900834483\n",
      "439.900469768\n",
      "439.900360988\n",
      "439.900328451\n",
      "PREC/REC : 0.12987012987012986 1.0\n",
      "RMSE_ TRAIN =  0.7802341613971948\n",
      "==========================new lambda==============================\n",
      "Lambda =  1.38770598266\n",
      "295.847812628\n",
      "295.79478308\n",
      "295.78069699\n",
      "295.776866663\n",
      "295.775800012\n",
      "295.775493901\n",
      "295.775404525\n",
      "PREC/REC : 0.12987012987012986 1.0\n",
      "RMSE_ TRAIN =  0.7781562453834111\n",
      "==========================new lambda==============================\n",
      "Lambda =  0.693852991329\n",
      "223.52738039\n",
      "223.512810991\n",
      "223.508757238\n",
      "223.507564775\n",
      "223.507206007\n",
      "223.507096157\n",
      "223.507062597\n",
      "PREC/REC : 0.1282051282051282 1.0\n",
      "RMSE_ TRAIN =  0.7776054133912235\n",
      "==========================new lambda==============================\n",
      "Lambda =  0.346926495665\n",
      "187.324111622\n",
      "187.320070032\n",
      "187.318901329\n",
      "187.318549067\n",
      "187.318439002\n",
      "187.318403875\n",
      "PREC/REC : 0.12658227848101267 1.0\n",
      "RMSE_ TRAIN =  0.7774610571990301\n",
      "==========================new lambda==============================\n",
      "Lambda =  0.173463247832\n",
      "169.211383537\n",
      "169.210214092\n",
      "169.209861367\n",
      "169.209750551\n",
      "169.209714336\n",
      "PREC/REC : 0.125 1.0\n",
      "0.173463247832\n"
     ]
    }
   ],
   "source": [
    "opt_lam = find_lam(init_lambda(X, Y), w, B, X, Y)\n",
    "print(opt_lam)\n"
   ]
  },
  {
   "cell_type": "code",
   "execution_count": 34,
   "metadata": {},
   "outputs": [
    {
     "data": {
      "text/plain": [
       "0.17346324783229664"
      ]
     },
     "execution_count": 34,
     "metadata": {},
     "output_type": "execute_result"
    }
   ],
   "source": [
    "opt_lam"
   ]
  },
  {
   "cell_type": "markdown",
   "metadata": {},
   "source": [
    "## Generate new train data and epsilon with sigma = 10 and get the labels"
   ]
  },
  {
   "cell_type": "code",
   "execution_count": 35,
   "metadata": {},
   "outputs": [],
   "source": [
    "sigma_new = 10\n",
    "X_2 = []\n",
    "for i in range(n):\n",
    "    X_2.append(np.random.normal(mu, sigma_new, d))\n",
    "X_2 = scipy.sparse.csr_matrix(X_2).T\n",
    "eps_2 = np.random.normal(mu, sigma_new, n)"
   ]
  },
  {
   "cell_type": "code",
   "execution_count": 36,
   "metadata": {},
   "outputs": [],
   "source": [
    "Y_2 = X_2.T.dot(w_star) + B_star + eps_2"
   ]
  },
  {
   "cell_type": "markdown",
   "metadata": {},
   "source": [
    "## Train over the optimal lambda and previous parameters "
   ]
  },
  {
   "cell_type": "code",
   "execution_count": 1,
   "metadata": {},
   "outputs": [
    {
     "ename": "NameError",
     "evalue": "name 'new_w' is not defined",
     "output_type": "error",
     "traceback": [
      "\u001b[1;31m---------------------------------------------------------------------------\u001b[0m",
      "\u001b[1;31mNameError\u001b[0m                                 Traceback (most recent call last)",
      "\u001b[1;32m<ipython-input-1-c58285599450>\u001b[0m in \u001b[0;36m<module>\u001b[1;34m()\u001b[0m\n\u001b[1;32m----> 1\u001b[1;33m \u001b[0mnew_w_2\u001b[0m\u001b[1;33m,\u001b[0m \u001b[0mnew_b_2\u001b[0m \u001b[1;33m=\u001b[0m \u001b[0mnew_w\u001b[0m\u001b[1;33m.\u001b[0m\u001b[0mcopy\u001b[0m\u001b[1;33m(\u001b[0m\u001b[1;33m)\u001b[0m\u001b[1;33m,\u001b[0m \u001b[0mnew_b\u001b[0m\u001b[1;33m.\u001b[0m\u001b[0mcopy\u001b[0m\u001b[1;33m(\u001b[0m\u001b[1;33m)\u001b[0m\u001b[1;33m\u001b[0m\u001b[0m\n\u001b[0m\u001b[0;32m      2\u001b[0m \u001b[1;31m# lam = init_lambda(X, Y)\u001b[0m\u001b[1;33m\u001b[0m\u001b[1;33m\u001b[0m\u001b[0m\n\u001b[0;32m      3\u001b[0m \u001b[0mdelta\u001b[0m \u001b[1;33m=\u001b[0m \u001b[1;36m0.0001\u001b[0m\u001b[1;33m\u001b[0m\u001b[0m\n\u001b[0;32m      4\u001b[0m \u001b[1;31m# lambda_val = []\u001b[0m\u001b[1;33m\u001b[0m\u001b[1;33m\u001b[0m\u001b[0m\n\u001b[0;32m      5\u001b[0m \u001b[0mrmse_train_2\u001b[0m \u001b[1;33m=\u001b[0m \u001b[1;33m[\u001b[0m\u001b[1;33m]\u001b[0m\u001b[1;33m\u001b[0m\u001b[0m\n",
      "\u001b[1;31mNameError\u001b[0m: name 'new_w' is not defined"
     ]
    }
   ],
   "source": [
    "new_w_2, new_b_2 = new_w.copy(), new_b.copy()\n",
    "# lam = init_lambda(X, Y)\n",
    "delta = 0.0001\n",
    "# lambda_val = []\n",
    "rmse_train_2 = []\n",
    "prec_2 = []\n",
    "rec_2 = []\n",
    "# rmse_cv = []\n",
    "# non_zero = []\n",
    "# param_list = []\n",
    "for j in range(20):\n",
    "    rmse_train_2.append(rmse(Y_2, X_2.T.dot(new_w_2) + new_b_2))\n",
    "    print(\"Iteration: \", j + 1)\n",
    "    print(\"RMSE_ TRAIN = \", rmse_train_2[-1])\n",
    "#     print(\"RMSE_CV = \", rmse_cv[-1])\n",
    "    print(\"==========================new lambda==============================\")\n",
    "    print(\"Lambda = \", opt_lam)\n",
    "#     lambda_val.append(lam)\n",
    "#     non_zero.append(np.count_nonzero(new_w))\n",
    "#     rmse_cv.append(rmse(Y_cv, X_cv.T.dot(new_w) + new_b))\n",
    "#     optimal_w_2, optimal_b_2 = new_w_2.copy(), new_b_2.copy()\n",
    "    new_w_2, new_b_2 = train(X, Y, new_w_2, new_b_2, opt_lam, delta)\n",
    "    if not np.count_nonzero(new_w_2):\n",
    "        prec_2.append(1)\n",
    "    else:\n",
    "        prec_2.append(np.count_nonzero(new_w_2[:k]) / np.count_nonzero(new_w_2))\n",
    "    rec_2.append(np.count_nonzero(new_w_2[:k])/ k)\n",
    "    print(\"PREC/REC :\", prec_2[-1], rec_2[-1])\n",
    "        "
   ]
  },
  {
   "cell_type": "markdown",
   "metadata": {},
   "source": [
    "## Plot new precision and old precision values"
   ]
  },
  {
   "cell_type": "code",
   "execution_count": 61,
   "metadata": {},
   "outputs": [
    {
     "data": {
      "image/png": "[encoded data removed]",
      "text/plain": [
       "<matplotlib.figure.Figure at 0x287dd960a90>"
      ]
     },
     "metadata": {},
     "output_type": "display_data"
    }
   ],
   "source": [
    "import matplotlib.pyplot as plt\n",
    "plt.plot(range(len(prec[-20:])), prec[-20:])\n",
    "plt.plot(range(len(prec[-20:])), prec_2)\n",
    "plt.ylabel('value')\n",
    "plt.xlabel('iterations')\n",
    "# ax = plt.gca()\n",
    "# ax.invert_xaxis()\n",
    "plt.legend(['Precision_Old', 'Precision_New'], loc='upper right')\n",
    "plt.show()"
   ]
  },
  {
   "cell_type": "markdown",
   "metadata": {},
   "source": [
    "## Plot new recall and old recall values"
   ]
  },
  {
   "cell_type": "code",
   "execution_count": 59,
   "metadata": {},
   "outputs": [
    {
     "data": {
      "image/png": "[encoded data removed]",
      "text/plain": [
       "<matplotlib.figure.Figure at 0x287df32d0b8>"
      ]
     },
     "metadata": {},
     "output_type": "display_data"
    }
   ],
   "source": [
    "import matplotlib.pyplot as plt\n",
    "plt.plot(range(len(rec[-20:])), rec[-20:])\n",
    "plt.plot(range(len(rec[-20:])), rec_2)\n",
    "plt.ylabel('value')\n",
    "plt.xlabel('iterations')\n",
    "# ax = plt.gca()\n",
    "# ax.invert_xaxis()\n",
    "plt.legend(['Recall_Old', 'Recall_New'], loc='upper right')\n",
    "plt.show()"
   ]
  },
  {
   "cell_type": "code",
   "execution_count": 38,
   "metadata": {},
   "outputs": [
    {
     "data": {
      "text/plain": [
       "80"
      ]
     },
     "execution_count": 38,
     "metadata": {},
     "output_type": "execute_result"
    }
   ],
   "source": [
    "np.count_nonzero(new_w)"
   ]
  },
  {
   "cell_type": "code",
   "execution_count": 37,
   "metadata": {},
   "outputs": [
    {
     "name": "stdout",
     "output_type": "stream",
     "text": [
      "0.12658227848101267 1.0\n"
     ]
    }
   ],
   "source": [
    "precision_2 = np.count_nonzero(new_w_2[:k]) / np.count_nonzero(new_w_2)\n",
    "recall_2 = np.count_nonzero(new_w_2[:k])/ k\n",
    "print(precision_2, recall_2)"
   ]
  }
 ],
 "metadata": {
  "kernelspec": {
   "display_name": "Python 3",
   "language": "python",
   "name": "python3"
  },
  "language_info": {
   "codemirror_mode": {
    "name": "ipython",
    "version": 3
   },
   "file_extension": ".py",
   "mimetype": "text/x-python",
   "name": "python",
   "nbconvert_exporter": "python",
   "pygments_lexer": "ipython3",
   "version": "3.6.3"
  }
 },
 "nbformat": 4,
 "nbformat_minor": 2
}
